{
 "cells": [
  {
   "cell_type": "code",
   "execution_count": null,
   "id": "b7e5a0c7",
   "metadata": {},
   "outputs": [],
   "source": [
    "from sklearn import datasets\n",
    "digits = datasets.load_digits()"
   ]
  },
  {
   "cell_type": "code",
   "execution_count": null,
   "id": "f3037133",
   "metadata": {},
   "outputs": [],
   "source": [
    "import matplotlib.pyplot as plt\n",
    "for i in [0, 200, 400, 600]:\n",
    "    print(digits.target[i])\n",
    "    plt.gray()\n",
    "    plt.matshow(digits.images[i])\n",
    "    plt.show()"
   ]
  },
  {
   "cell_type": "code",
   "execution_count": null,
   "id": "92e1117f",
   "metadata": {},
   "outputs": [],
   "source": [
    "import pandas as pd\n",
    "df = pd.DataFrame(digits[\"data\"], columns=digits[\"feature_names\"])\n",
    "df[\"class\"] = [digits[\"target_names\"][target] for target in digits[\"target\"]]\n",
    "df"
   ]
  },
  {
   "cell_type": "code",
   "execution_count": null,
   "id": "19728082",
   "metadata": {},
   "outputs": [],
   "source": [
    "df.describe()"
   ]
  },
  {
   "cell_type": "code",
   "execution_count": null,
   "id": "a6726ab9",
   "metadata": {},
   "outputs": [],
   "source": [
    "from sklearn.decomposition import PCA\n",
    "pca = PCA(n_components=digits[\"data\"].shape[1]).fit(digits[\"data\"])"
   ]
  },
  {
   "cell_type": "code",
   "execution_count": null,
   "id": "dc54c3d3",
   "metadata": {},
   "outputs": [],
   "source": [
    "plt.plot(pca.singular_values_)"
   ]
  },
  {
   "cell_type": "code",
   "execution_count": null,
   "id": "ea8709e9",
   "metadata": {},
   "outputs": [],
   "source": [
    "pca2 = PCA(n_components=2)"
   ]
  },
  {
   "cell_type": "code",
   "execution_count": null,
   "id": "16a5c940",
   "metadata": {},
   "outputs": [],
   "source": [
    "pdf = pd.DataFrame(pca2.fit_transform(digits[\"data\"]), columns=[\"x\", \"y\"])\n",
    "pdf[\"target\"] = digits[\"target\"]"
   ]
  },
  {
   "cell_type": "code",
   "execution_count": null,
   "id": "b554c2a9",
   "metadata": {},
   "outputs": [],
   "source": [
    "pdf.plot.scatter(x='x', y='y', c=\"target\", figsize=(10,10), cmap=\"tab10\")"
   ]
  },
  {
   "cell_type": "code",
   "execution_count": null,
   "id": "76400938",
   "metadata": {},
   "outputs": [],
   "source": [
    "from sklearn.manifold import TSNE\n",
    "tsne2 = TSNE(n_components=2, random_state=42)\n",
    "tdf = pd.DataFrame(tsne2.fit_transform(digits[\"data\"]), columns=[\"x\", \"y\"])\n",
    "tdf[\"target\"] = digits[\"target\"]"
   ]
  },
  {
   "cell_type": "code",
   "execution_count": null,
   "id": "0e4857d7",
   "metadata": {},
   "outputs": [],
   "source": [
    "tdf.plot.scatter(x='x', y='y', c=tdf[\"target\"], figsize=(10,10), cmap=\"tab10\")"
   ]
  },
  {
   "cell_type": "code",
   "execution_count": null,
   "id": "88c7ddf0",
   "metadata": {},
   "outputs": [],
   "source": [
    "%pip install umap-learn[parametric_umap]"
   ]
  },
  {
   "cell_type": "code",
   "execution_count": null,
   "id": "1514655e",
   "metadata": {},
   "outputs": [],
   "source": [
    "import umap\n",
    "umap2 = umap.UMAP(n_components=2, random_state=42)\n",
    "udf = pd.DataFrame(umap2.fit_transform(digits[\"data\"], ), columns=[\"x\", \"y\"])\n",
    "udf[\"target\"] = digits[\"target\"]"
   ]
  },
  {
   "cell_type": "code",
   "execution_count": null,
   "id": "ff03fd1d",
   "metadata": {},
   "outputs": [],
   "source": [
    "udf.plot.scatter(x='x', y='y', c=\"target\", figsize=(10,10), cmap=\"tab10\")"
   ]
  }
 ],
 "metadata": {
  "kernelspec": {
   "display_name": "Python 3 (ipykernel)",
   "language": "python",
   "name": "python3"
  },
  "language_info": {
   "codemirror_mode": {
    "name": "ipython",
    "version": 3
   },
   "file_extension": ".py",
   "mimetype": "text/x-python",
   "name": "python",
   "nbconvert_exporter": "python",
   "pygments_lexer": "ipython3",
   "version": "3.8.10"
  }
 },
 "nbformat": 4,
 "nbformat_minor": 5
}
