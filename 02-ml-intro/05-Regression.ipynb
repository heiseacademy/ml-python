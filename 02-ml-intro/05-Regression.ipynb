{
 "cells": [
  {
   "cell_type": "code",
   "execution_count": null,
   "id": "816814a2-2e1f-4a67-9e7e-9360da299cdd",
   "metadata": {},
   "outputs": [],
   "source": [
    "import sys, os\n",
    "ON_COLAB = 'google.colab' in sys.modules\n",
    "\n",
    "if ON_COLAB:\n",
    "    os.system(\"test -f heise-monthly.csv || wget  https://github.com/heiseacademy/ml-python/raw/main/02-ml-intro/heise-monthly.csv\")"
   ]
  },
  {
   "cell_type": "code",
   "execution_count": null,
   "id": "30403e5e",
   "metadata": {},
   "outputs": [],
   "source": [
    "import pandas as pd\n",
    "heise_monthly = pd.read_csv(\"heise-monthly.csv\", parse_dates=[\"month\"], index_col=\"month\")"
   ]
  },
  {
   "cell_type": "code",
   "execution_count": null,
   "id": "d79b9395",
   "metadata": {},
   "outputs": [],
   "source": [
    "heise_monthly[\"count\"].plot()"
   ]
  },
  {
   "cell_type": "code",
   "execution_count": null,
   "id": "3d746351",
   "metadata": {},
   "outputs": [],
   "source": [
    "from scipy.stats import linregress\n",
    "lrc = linregress(range(len(heise_monthly)), heise_monthly[\"count\"].values)\n",
    "lrc"
   ]
  },
  {
   "cell_type": "code",
   "execution_count": null,
   "id": "0820925f",
   "metadata": {},
   "outputs": [],
   "source": [
    "heise_monthly[\"predict_count\"] = [i*lrc.slope+lrc.intercept for i in range(len(heise_monthly))]"
   ]
  },
  {
   "cell_type": "code",
   "execution_count": null,
   "id": "d4acf08d",
   "metadata": {},
   "outputs": [],
   "source": [
    "heise_monthly[[\"count\", \"predict_count\"]].plot()"
   ]
  },
  {
   "cell_type": "code",
   "execution_count": null,
   "id": "c7b70513",
   "metadata": {},
   "outputs": [],
   "source": [
    "lrt = linregress(range(len(heise_monthly)), heise_monthly[\"tokens\"].values)\n",
    "lrt"
   ]
  },
  {
   "cell_type": "code",
   "execution_count": null,
   "id": "5808822d",
   "metadata": {},
   "outputs": [],
   "source": [
    "heise_monthly[\"predict_tokens\"] = [i*lrt.slope+lrt.intercept for i in range(len(heise_monthly))]"
   ]
  },
  {
   "cell_type": "code",
   "execution_count": null,
   "id": "885d5254",
   "metadata": {},
   "outputs": [],
   "source": [
    "heise_monthly[[\"tokens\", \"predict_tokens\"]].plot()"
   ]
  },
  {
   "cell_type": "code",
   "execution_count": null,
   "id": "0c33d179",
   "metadata": {},
   "outputs": [],
   "source": [
    "from sklearn import linear_model\n",
    "slrt = linear_model.LinearRegression()\n",
    "X = [[i] for i in range(len(heise_monthly))]\n",
    "Y = heise_monthly[\"tokens\"].values\n",
    "slrt.fit(X, Y)"
   ]
  },
  {
   "cell_type": "code",
   "execution_count": null,
   "id": "4e9ac122",
   "metadata": {},
   "outputs": [],
   "source": [
    "heise_monthly[\"predict_tokens_sklearn_linear\"] = slrt.predict(X)"
   ]
  },
  {
   "cell_type": "code",
   "execution_count": null,
   "id": "8d9193ab",
   "metadata": {},
   "outputs": [],
   "source": [
    "heise_monthly[[\"tokens\", \"predict_tokens_sklearn_linear\"]].plot()"
   ]
  },
  {
   "cell_type": "code",
   "execution_count": null,
   "id": "e5023323",
   "metadata": {},
   "outputs": [],
   "source": [
    "from sklearn.metrics import mean_squared_error, r2_score\n",
    "def print_scores(ground_truth, predict):\n",
    "    print('Mittlerer quadratischer Fehler', mean_squared_error(ground_truth, predict))\n",
    "    # 1 entspricht einer 100% Vorhersage\n",
    "    print('Coefficient of determination: %.2f' % r2_score(ground_truth, predict))\n",
    "    \n",
    "print_scores(Y, heise_monthly[\"predict_tokens_sklearn_linear\"])"
   ]
  },
  {
   "cell_type": "code",
   "execution_count": null,
   "id": "e28065ed",
   "metadata": {},
   "outputs": [],
   "source": [
    "(X_train, X_test) = (X[:-50], X[-50:])\n",
    "(Y_train, Y_test) = (Y[:-50], Y[-50:])\n",
    "slrt.fit(X_train, Y_train)"
   ]
  },
  {
   "cell_type": "code",
   "execution_count": null,
   "id": "8039a3bb",
   "metadata": {
    "scrolled": true
   },
   "outputs": [],
   "source": [
    "print_scores(Y_test, slrt.predict(X_test))"
   ]
  },
  {
   "cell_type": "code",
   "execution_count": null,
   "id": "5386e365",
   "metadata": {},
   "outputs": [],
   "source": [
    "heise_monthly[\"predict_tokens_sklearn_linear\"] = slrt.predict(X)"
   ]
  },
  {
   "cell_type": "code",
   "execution_count": null,
   "id": "69a992dc",
   "metadata": {},
   "outputs": [],
   "source": [
    "heise_monthly[\"predict_tokens_sklearn_linear_train\"] = list(slrt.predict(X_train)) + [None]*len(X_test)\n",
    "heise_monthly[\"predict_tokens_sklearn_linear_test\"] = [None]*len(X_train) + list(slrt.predict(X_test))\n",
    "heise_monthly[[\"tokens\", \"predict_tokens_sklearn_linear_train\", \"predict_tokens_sklearn_linear_test\"]].plot()"
   ]
  },
  {
   "cell_type": "code",
   "execution_count": null,
   "id": "9a1e753a",
   "metadata": {},
   "outputs": [],
   "source": [
    "from sklearn.tree import DecisionTreeRegressor\n",
    "\n",
    "dtt = DecisionTreeRegressor(max_depth=4)\n",
    "\n",
    "dtt.fit(X_train, Y_train)\n",
    "print_scores(Y_test, dtt.predict(X_test))"
   ]
  },
  {
   "cell_type": "code",
   "execution_count": null,
   "id": "94a24ac8",
   "metadata": {},
   "outputs": [],
   "source": [
    "heise_monthly[\"predict_tokens_sklearn_dt_train\"] = list(dtt.predict(X_train)) + [None]*len(X_test)\n",
    "heise_monthly[\"predict_tokens_sklearn_dt_test\"] = [None]*len(X_train) + list(dtt.predict(X_test))\n",
    "heise_monthly[[\"tokens\", \"predict_tokens_sklearn_dt_train\", \"predict_tokens_sklearn_dt_test\"]].plot()"
   ]
  },
  {
   "cell_type": "code",
   "execution_count": null,
   "id": "5d750665",
   "metadata": {},
   "outputs": [],
   "source": [
    "from sklearn.ensemble import AdaBoostRegressor\n",
    "\n",
    "abt = AdaBoostRegressor(DecisionTreeRegressor(max_depth=4),\n",
    "                          n_estimators=300, random_state=42)\n",
    "\n",
    "abt.fit(X_train, Y_train)\n",
    "print_scores(Y_test, abt.predict(X_test))"
   ]
  },
  {
   "cell_type": "code",
   "execution_count": null,
   "id": "4bd774d2",
   "metadata": {},
   "outputs": [],
   "source": [
    "heise_monthly[\"predict_tokens_sklearn_ab_train\"] = list(abt.predict(X_train)) + [None]*len(X_test)\n",
    "heise_monthly[\"predict_tokens_sklearn_ab_test\"] = [None]*len(X_train) + list(abt.predict(X_test))\n",
    "heise_monthly[[\"tokens\", \"predict_tokens_sklearn_ab_train\", \"predict_tokens_sklearn_ab_test\"]].plot()"
   ]
  },
  {
   "cell_type": "code",
   "execution_count": null,
   "id": "499c23fc",
   "metadata": {},
   "outputs": [],
   "source": [
    "from sklearn import ensemble\n",
    "gbt = ensemble.GradientBoostingRegressor()\n",
    "gbt.fit(X_train, Y_train)\n",
    "print_scores(Y_test, gbt.predict(X_test))"
   ]
  },
  {
   "cell_type": "code",
   "execution_count": null,
   "id": "dc6aeb23",
   "metadata": {
    "scrolled": true
   },
   "outputs": [],
   "source": [
    "heise_monthly[\"predict_tokens_sklearn_gb_train\"] = list(gbt.predict(X_train)) + [None]*len(X_test)\n",
    "heise_monthly[\"predict_tokens_sklearn_gb_test\"] = [None]*len(X_train) + list(gbt.predict(X_test))\n",
    "heise_monthly[[\"tokens\", \"predict_tokens_sklearn_gb_train\", \"predict_tokens_sklearn_gb_test\"]].plot()"
   ]
  },
  {
   "cell_type": "code",
   "execution_count": null,
   "id": "0e74adf3-ce26-49ab-b706-af77323b3575",
   "metadata": {},
   "outputs": [],
   "source": [
    "%pip install prophet plotly"
   ]
  },
  {
   "cell_type": "code",
   "execution_count": null,
   "id": "aceef431",
   "metadata": {},
   "outputs": [],
   "source": [
    "from prophet import Prophet"
   ]
  },
  {
   "cell_type": "code",
   "execution_count": null,
   "id": "b30e0da9",
   "metadata": {},
   "outputs": [],
   "source": [
    "pa = pd.DataFrame()\n",
    "pa[\"ds\"] = heise_monthly.index.values\n",
    "pa[\"y\"] = heise_monthly[\"tokens\"].values\n",
    "pa"
   ]
  },
  {
   "cell_type": "code",
   "execution_count": null,
   "id": "7083acc7",
   "metadata": {
    "scrolled": true
   },
   "outputs": [],
   "source": [
    "m = Prophet()\n",
    "m.fit(pa)"
   ]
  },
  {
   "cell_type": "code",
   "execution_count": null,
   "id": "834f64e9",
   "metadata": {},
   "outputs": [],
   "source": [
    "future = m.make_future_dataframe(periods=20, freq='M')"
   ]
  },
  {
   "cell_type": "code",
   "execution_count": null,
   "id": "5d89952e",
   "metadata": {},
   "outputs": [],
   "source": [
    "forecast = m.predict(future)\n",
    "forecast[['ds', 'yhat', 'yhat_lower', 'yhat_upper']].tail()"
   ]
  },
  {
   "cell_type": "code",
   "execution_count": null,
   "id": "1d7ec87a",
   "metadata": {},
   "outputs": [],
   "source": [
    "m.plot(forecast)"
   ]
  },
  {
   "cell_type": "code",
   "execution_count": null,
   "id": "7d162def",
   "metadata": {},
   "outputs": [],
   "source": [
    "m.plot_components(forecast)"
   ]
  }
 ],
 "metadata": {
  "kernelspec": {
   "display_name": "Python 3 (ipykernel)",
   "language": "python",
   "name": "python3"
  },
  "language_info": {
   "codemirror_mode": {
    "name": "ipython",
    "version": 3
   },
   "file_extension": ".py",
   "mimetype": "text/x-python",
   "name": "python",
   "nbconvert_exporter": "python",
   "pygments_lexer": "ipython3",
   "version": "3.11.9"
  }
 },
 "nbformat": 4,
 "nbformat_minor": 5
}
