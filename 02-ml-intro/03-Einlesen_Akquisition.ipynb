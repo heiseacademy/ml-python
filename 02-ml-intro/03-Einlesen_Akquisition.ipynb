{
 "cells": [
  {
   "cell_type": "code",
   "execution_count": null,
   "id": "72d2a6a9-a96d-4333-9767-a2b778a7308e",
   "metadata": {},
   "outputs": [],
   "source": [
    "import sys, os\n",
    "ON_COLAB = 'google.colab' in sys.modules\n",
    "\n",
    "if ON_COLAB:\n",
    "    os.system(\"test -f stundenplan.csv || wget  https://github.com/heiseacademy/ml-python/raw/main/02-ml-intro/stundenplan.csv\")\n",
    "    os.system(\"test -f stundenplan.json || wget  https://github.com/heiseacademy/ml-python/raw/main/02-ml-intro/stundenplan.json\")\n",
    "    os.system(\"test -f stundenplan.xlsx || wget  https://github.com/heiseacademy/ml-python/raw/main/02-ml-intro/stundenplan.xlsx\")\n",
    "    os.system(\"test -f stundenplan.db || wget  https://github.com/heiseacademy/ml-python/raw/main/02-ml-intro/stundenplan.db\")"
   ]
  },
  {
   "cell_type": "code",
   "execution_count": null,
   "id": "4e0d4e60",
   "metadata": {},
   "outputs": [],
   "source": [
    "import pandas as pd\n",
    "pd.read_csv(\"stundenplan.csv\")"
   ]
  },
  {
   "cell_type": "code",
   "execution_count": null,
   "id": "27758cf8",
   "metadata": {},
   "outputs": [],
   "source": [
    "pd.read_json(\"stundenplan.json\")"
   ]
  },
  {
   "cell_type": "code",
   "execution_count": null,
   "id": "114dd347-181f-4bff-b394-abdc2603313e",
   "metadata": {},
   "outputs": [],
   "source": [
    "%pip install openpyxl"
   ]
  },
  {
   "cell_type": "code",
   "execution_count": null,
   "id": "f32f75e5",
   "metadata": {},
   "outputs": [],
   "source": [
    "pd.read_excel(\"stundenplan.xlsx\")"
   ]
  },
  {
   "cell_type": "code",
   "execution_count": null,
   "id": "1f6f52c7",
   "metadata": {},
   "outputs": [],
   "source": [
    "import sqlite3\n",
    "sql = sqlite3.connect(\"stundenplan.db\")\n",
    "pd.read_sql(\"SELECT * FROM stundenplan\", sql)"
   ]
  },
  {
   "cell_type": "code",
   "execution_count": null,
   "id": "f8f429fa",
   "metadata": {},
   "outputs": [],
   "source": [
    "%pip install eurostat"
   ]
  },
  {
   "cell_type": "code",
   "execution_count": null,
   "id": "f8bc9366",
   "metadata": {},
   "outputs": [],
   "source": [
    "import eurostat\n",
    "df = eurostat.get_data_df(\"ei_bsco_m\")"
   ]
  },
  {
   "cell_type": "code",
   "execution_count": null,
   "id": "d0ab1200",
   "metadata": {},
   "outputs": [],
   "source": [
    "df"
   ]
  },
  {
   "cell_type": "code",
   "execution_count": null,
   "id": "cdf0be6c",
   "metadata": {},
   "outputs": [],
   "source": [
    "import requests\n",
    "r = requests.get(f\"https://www.heise.de/newsticker/archiv/\")"
   ]
  },
  {
   "cell_type": "code",
   "execution_count": null,
   "id": "2cbf428a",
   "metadata": {},
   "outputs": [],
   "source": [
    "from bs4 import BeautifulSoup\n",
    "soup = BeautifulSoup(r.content)\n",
    "[a.text.strip() for a in soup.select(\"ul.archive__list article .a-article-teaser__title-text\")[0:5]]"
   ]
  },
  {
   "cell_type": "code",
   "execution_count": null,
   "id": "e337ff43",
   "metadata": {},
   "outputs": [],
   "source": [
    "[a.attrs[\"href\"] for a in soup.select(\"ul.archive__list article a.archive__link\")[0:5]]"
   ]
  }
 ],
 "metadata": {
  "kernelspec": {
   "display_name": "Python 3 (ipykernel)",
   "language": "python",
   "name": "python3"
  },
  "language_info": {
   "codemirror_mode": {
    "name": "ipython",
    "version": 3
   },
   "file_extension": ".py",
   "mimetype": "text/x-python",
   "name": "python",
   "nbconvert_exporter": "python",
   "pygments_lexer": "ipython3",
   "version": "3.11.9"
  }
 },
 "nbformat": 4,
 "nbformat_minor": 5
}
