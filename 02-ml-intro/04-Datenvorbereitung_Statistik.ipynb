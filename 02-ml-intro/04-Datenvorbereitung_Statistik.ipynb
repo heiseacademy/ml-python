{
 "cells": [
  {
   "cell_type": "code",
   "execution_count": null,
   "id": "c2a1e581-4730-4987-b7bb-9cc557545686",
   "metadata": {},
   "outputs": [],
   "source": [
    "import sys, os\n",
    "ON_COLAB = 'google.colab' in sys.modules\n",
    "\n",
    "if ON_COLAB:\n",
    "    os.system(\"test -f heise-monthly.csv || wget  https://github.com/heiseacademy/ml-python/raw/main/02-ml-intro/heise-monthly.csv\")"
   ]
  },
  {
   "cell_type": "code",
   "execution_count": null,
   "id": "30403e5e",
   "metadata": {},
   "outputs": [],
   "source": [
    "import pandas as pd\n",
    "heise_monthly = pd.read_csv(\"heise-monthly.csv\", parse_dates=[\"month\"], index_col=\"month\")\n",
    "heise_monthly"
   ]
  },
  {
   "cell_type": "code",
   "execution_count": null,
   "id": "a15b5945",
   "metadata": {},
   "outputs": [],
   "source": [
    "heise_monthly.describe()"
   ]
  },
  {
   "cell_type": "code",
   "execution_count": null,
   "id": "d79b9395",
   "metadata": {},
   "outputs": [],
   "source": [
    "heise_monthly[\"count\"].plot()"
   ]
  },
  {
   "cell_type": "code",
   "execution_count": null,
   "id": "885d5254",
   "metadata": {},
   "outputs": [],
   "source": [
    "heise_monthly[\"tokens\"].plot()"
   ]
  },
  {
   "cell_type": "code",
   "execution_count": null,
   "id": "78c81caa",
   "metadata": {},
   "outputs": [],
   "source": [
    "%pip install eurostat"
   ]
  },
  {
   "cell_type": "code",
   "execution_count": null,
   "id": "f8bc9366",
   "metadata": {},
   "outputs": [],
   "source": [
    "import eurostat\n",
    "df = eurostat.get_data_df(\"ei_bsco_m\")"
   ]
  },
  {
   "cell_type": "code",
   "execution_count": null,
   "id": "d0ab1200",
   "metadata": {},
   "outputs": [],
   "source": [
    "df"
   ]
  },
  {
   "cell_type": "code",
   "execution_count": null,
   "id": "e00ddecb",
   "metadata": {},
   "outputs": [],
   "source": [
    "df = df.rename(columns={\"geo\\\\TIME_PERIOD\": \"country\"})"
   ]
  },
  {
   "cell_type": "code",
   "execution_count": null,
   "id": "c06c4509",
   "metadata": {},
   "outputs": [],
   "source": [
    "from datetime import datetime\n",
    "df.columns = [datetime.strptime(f + \"-01\", \"%Y-%m-%d\")\n",
    "                if f.startswith(\"20\") or f.startswith(\"19\") else f for f in df.columns]"
   ]
  },
  {
   "cell_type": "code",
   "execution_count": null,
   "id": "9e298156",
   "metadata": {},
   "outputs": [],
   "source": [
    "bs_de = df[(df[\"indic\"] == \"BS-CSMCI\") & (df[\"s_adj\"] == \"SA\") & (df[\"country\"] == \"DE\")]\n",
    "bs_de = bs_de[[c for c in bs_de.columns \n",
    "                     if (isinstance(c, datetime) and c.year>=2000)]]\n",
    "bs_de"
   ]
  },
  {
   "cell_type": "code",
   "execution_count": null,
   "id": "551697a3",
   "metadata": {},
   "outputs": [],
   "source": [
    "bs_de.T.plot()"
   ]
  },
  {
   "cell_type": "code",
   "execution_count": null,
   "id": "a02e0b60",
   "metadata": {},
   "outputs": [],
   "source": [
    "indic_country = df[df[\"s_adj\"] == \"SA\"].pivot(index=\"country\", columns=\"indic\", values=datetime(2021, 6, 1))\n",
    "indic_country"
   ]
  },
  {
   "cell_type": "code",
   "execution_count": null,
   "id": "2ff9b5a2",
   "metadata": {},
   "outputs": [],
   "source": [
    "import seaborn as sns\n",
    "import matplotlib.pyplot as plt\n",
    "plt.figure(figsize=(10, 10))\n",
    "sns.heatmap(indic_country)"
   ]
  },
  {
   "cell_type": "code",
   "execution_count": null,
   "id": "d3ae5309",
   "metadata": {},
   "outputs": [],
   "source": [
    "# Jahre ab 2000\n",
    "columns_2000 = [c for c in df.columns if isinstance(c, datetime) and (c.year>=2000)]\n",
    "\n",
    "de = df[(df[\"s_adj\"] == \"SA\") & (df[\"country\"] == \"DE\")].set_index(\"indic\")[columns_2000].transpose()\n",
    "de"
   ]
  },
  {
   "cell_type": "code",
   "execution_count": null,
   "id": "dc28af66",
   "metadata": {},
   "outputs": [],
   "source": [
    "sns.jointplot(x=de[\"BS-SFSH\"], y=de[\"BS-CSMCI\"], scatter=False, kind=\"reg\")"
   ]
  },
  {
   "cell_type": "code",
   "execution_count": null,
   "id": "c3b12c67",
   "metadata": {},
   "outputs": [],
   "source": [
    "sns.pairplot(de)"
   ]
  },
  {
   "cell_type": "code",
   "execution_count": null,
   "id": "cae12038",
   "metadata": {},
   "outputs": [],
   "source": [
    "from scipy.stats import linregress\n",
    "from itertools import permutations\n",
    "res = []\n",
    "for (i1, i2) in permutations(de.columns, 2):\n",
    "    res.append({ \"Indikator 1\": i1, \"Indikator 2\": i2, \"Pearson R\": linregress(de[i1], de[i2]).rvalue})"
   ]
  },
  {
   "cell_type": "code",
   "execution_count": null,
   "id": "c5f791f6",
   "metadata": {},
   "outputs": [],
   "source": [
    "pd.DataFrame(res).sort_values(\"Pearson R\")"
   ]
  }
 ],
 "metadata": {
  "kernelspec": {
   "display_name": "Python 3 (ipykernel)",
   "language": "python",
   "name": "python3"
  },
  "language_info": {
   "codemirror_mode": {
    "name": "ipython",
    "version": 3
   },
   "file_extension": ".py",
   "mimetype": "text/x-python",
   "name": "python",
   "nbconvert_exporter": "python",
   "pygments_lexer": "ipython3",
   "version": "3.8.10"
  }
 },
 "nbformat": 4,
 "nbformat_minor": 5
}
