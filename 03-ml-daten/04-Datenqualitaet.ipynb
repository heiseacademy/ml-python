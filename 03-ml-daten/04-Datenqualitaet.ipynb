{
 "cells": [
  {
   "cell_type": "markdown",
   "id": "d3a31386",
   "metadata": {},
   "source": [
    "# Beurteilung der Datenqualität"
   ]
  },
  {
   "cell_type": "code",
   "execution_count": null,
   "id": "78c81caa",
   "metadata": {},
   "outputs": [],
   "source": [
    "%pip install eurostat"
   ]
  },
  {
   "cell_type": "code",
   "execution_count": null,
   "id": "f8bc9366",
   "metadata": {},
   "outputs": [],
   "source": [
    "import eurostat\n",
    "df = eurostat.get_data_df(\"prc_hpi_a\")\n",
    "df"
   ]
  },
  {
   "cell_type": "code",
   "execution_count": null,
   "id": "9e1bac8b",
   "metadata": {},
   "outputs": [],
   "source": [
    "hp10 = df[(df[\"unit\"] == \"I10_A_AVG\") & (df[\"purchase\"] == \"DW_NEW\")].copy()\n",
    "hp10"
   ]
  },
  {
   "cell_type": "code",
   "execution_count": null,
   "id": "2e0aa5c6",
   "metadata": {},
   "outputs": [],
   "source": [
    "hp10.describe()"
   ]
  },
  {
   "cell_type": "code",
   "execution_count": null,
   "id": "329bbf5c",
   "metadata": {},
   "outputs": [],
   "source": [
    "hp10.dropna()"
   ]
  },
  {
   "cell_type": "code",
   "execution_count": null,
   "id": "3b573340",
   "metadata": {},
   "outputs": [],
   "source": [
    "columns = [str(c) for c in range(2010,2022)]\n",
    "hp10.dropna(subset=columns)"
   ]
  },
  {
   "cell_type": "code",
   "execution_count": null,
   "id": "3d9dae97",
   "metadata": {},
   "outputs": [],
   "source": [
    "hp_from_2010 = hp10.dropna(subset=columns)[[\"geo\\\\TIME_PERIOD\"] + columns]\n",
    "hp_from_2010"
   ]
  },
  {
   "cell_type": "code",
   "execution_count": null,
   "id": "e00ddecb",
   "metadata": {},
   "outputs": [],
   "source": [
    "hp_from_2010.rename(columns={\"geo\\\\TIME_PERIOD\": \"country\"}, inplace=True)\n",
    "hp10.rename(columns={\"geo\\\\TIME_PERIOD\": \"country\"}, inplace=True)"
   ]
  },
  {
   "cell_type": "code",
   "execution_count": null,
   "id": "e301bb72",
   "metadata": {},
   "outputs": [],
   "source": [
    "hp10[hp10[\"country\"] == \"DE\"]"
   ]
  },
  {
   "cell_type": "code",
   "execution_count": null,
   "id": "3554a461",
   "metadata": {},
   "outputs": [],
   "source": [
    "hp10[hp10[\"country\"] == \"DE\"][[str(i) for i in range(2010, 2022)]].T.plot.bar()"
   ]
  },
  {
   "cell_type": "code",
   "execution_count": null,
   "id": "a02e0b60",
   "metadata": {},
   "outputs": [],
   "source": [
    "country_prices = hp10[[\"country\"]+ [str(c) for c in range(2005,2022)]].set_index(\"country\")\n",
    "country_prices.T.plot(figsize=(16,9))"
   ]
  },
  {
   "cell_type": "code",
   "execution_count": null,
   "id": "2ff9b5a2",
   "metadata": {},
   "outputs": [],
   "source": [
    "import seaborn as sns\n",
    "import matplotlib.pyplot as plt\n",
    "plt.figure(figsize=(10, 10))\n",
    "sns.heatmap(country_prices)"
   ]
  },
  {
   "cell_type": "code",
   "execution_count": null,
   "id": "d3ae5309",
   "metadata": {},
   "outputs": [],
   "source": [
    "sns.jointplot(x=country_prices.T[\"DE\"], y=country_prices.T[\"AT\"], scatter=False, kind=\"reg\")"
   ]
  },
  {
   "cell_type": "code",
   "execution_count": null,
   "id": "3356e5b4",
   "metadata": {},
   "outputs": [],
   "source": [
    "sns.jointplot(x=country_prices.T[\"DE\"], y=country_prices.T[\"TR\"], scatter=False, kind=\"reg\")"
   ]
  },
  {
   "cell_type": "code",
   "execution_count": null,
   "id": "86824c78",
   "metadata": {},
   "outputs": [],
   "source": [
    "country_prices.T[[\"DE\", \"AT\", \"TR\"]].corr()"
   ]
  },
  {
   "cell_type": "code",
   "execution_count": null,
   "id": "9b85e9ba",
   "metadata": {},
   "outputs": [],
   "source": [
    "sns.pairplot(country_prices.T[[\"DE\", \"AT\", \"TR\"]])"
   ]
  },
  {
   "cell_type": "code",
   "execution_count": null,
   "id": "d7800931",
   "metadata": {},
   "outputs": [],
   "source": [
    "country_prices"
   ]
  },
  {
   "cell_type": "code",
   "execution_count": null,
   "id": "fec856a4",
   "metadata": {},
   "outputs": [],
   "source": [
    "import pandas as pd\n",
    "u = country_prices.melt(ignore_index=False, var_name=\"year\", value_name=\"price_index\").reset_index()"
   ]
  },
  {
   "cell_type": "code",
   "execution_count": null,
   "id": "35951e27",
   "metadata": {},
   "outputs": [],
   "source": [
    "import matplotlib.pyplot as plt\n",
    "plt.figure(figsize=(10, 10))\n",
    "sns.boxplot(y = u[\"country\"], x = u[\"price_index\"])"
   ]
  }
 ],
 "metadata": {
  "kernelspec": {
   "display_name": "Python 3 (ipykernel)",
   "language": "python",
   "name": "python3"
  },
  "language_info": {
   "codemirror_mode": {
    "name": "ipython",
    "version": 3
   },
   "file_extension": ".py",
   "mimetype": "text/x-python",
   "name": "python",
   "nbconvert_exporter": "python",
   "pygments_lexer": "ipython3",
   "version": "3.10.12"
  }
 },
 "nbformat": 4,
 "nbformat_minor": 5
}
