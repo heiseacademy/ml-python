{
 "cells": [
  {
   "cell_type": "code",
   "execution_count": null,
   "id": "d5490a2b",
   "metadata": {},
   "outputs": [],
   "source": [
    "import pandas as pd\n",
    "import numpy as np"
   ]
  },
  {
   "cell_type": "code",
   "execution_count": null,
   "id": "2150e6f0",
   "metadata": {},
   "outputs": [],
   "source": [
    "df = pd.DataFrame({ \"x\": np.arange(-5, 5, 0.05), \n",
    "                    \"y\": np.sin(np.arange(-5, 5, 0.05)) })"
   ]
  },
  {
   "cell_type": "code",
   "execution_count": null,
   "id": "cab54bfd-4fa7-40ff-ae8c-c04f931dd729",
   "metadata": {},
   "outputs": [],
   "source": [
    "%pip install seaborn"
   ]
  },
  {
   "cell_type": "code",
   "execution_count": null,
   "id": "d422c935",
   "metadata": {},
   "outputs": [],
   "source": [
    "import seaborn as sns\n",
    "sns.lineplot(x=\"x\", y=\"y\", data=df)"
   ]
  },
  {
   "cell_type": "code",
   "execution_count": null,
   "id": "7619f417",
   "metadata": {},
   "outputs": [],
   "source": [
    "df = pd.DataFrame({ \"x\": np.arange(-5, 5, 0.05), \n",
    "                    \"y\": np.exp(np.arange(-5, 5, 0.05)) })\n",
    "df.set_index(\"x\").plot()"
   ]
  },
  {
   "cell_type": "code",
   "execution_count": null,
   "id": "d4ff20c2",
   "metadata": {},
   "outputs": [],
   "source": [
    "import matplotlib\n",
    "matplotlib.style.use('ggplot')"
   ]
  },
  {
   "cell_type": "code",
   "execution_count": null,
   "id": "1663d846",
   "metadata": {},
   "outputs": [],
   "source": [
    "df.set_index(\"x\").plot()"
   ]
  },
  {
   "cell_type": "code",
   "execution_count": null,
   "id": "08e6da84",
   "metadata": {},
   "outputs": [],
   "source": [
    "import seaborn as sns"
   ]
  },
  {
   "cell_type": "code",
   "execution_count": null,
   "id": "3131fc03",
   "metadata": {},
   "outputs": [],
   "source": [
    "sns.lineplot(x=\"x\", y=\"y\", data=df)"
   ]
  },
  {
   "cell_type": "code",
   "execution_count": null,
   "id": "b1ddb28d",
   "metadata": {},
   "outputs": [],
   "source": [
    "part = df[df[\"x\"] > 0]\n",
    "part"
   ]
  },
  {
   "cell_type": "code",
   "execution_count": null,
   "id": "2fe9fd68",
   "metadata": {},
   "outputs": [],
   "source": [
    "df[\"x\"] > 0"
   ]
  },
  {
   "cell_type": "code",
   "execution_count": null,
   "id": "9fe8fca1",
   "metadata": {},
   "outputs": [],
   "source": [
    "part[\"z\"] = np.log(part[\"x\"])"
   ]
  },
  {
   "cell_type": "code",
   "execution_count": null,
   "id": "6b5a8fe5",
   "metadata": {},
   "outputs": [],
   "source": [
    "part"
   ]
  },
  {
   "cell_type": "code",
   "execution_count": null,
   "id": "2b4f965d",
   "metadata": {},
   "outputs": [],
   "source": [
    "df"
   ]
  },
  {
   "cell_type": "code",
   "execution_count": null,
   "id": "3937e00e",
   "metadata": {
    "scrolled": true
   },
   "outputs": [],
   "source": [
    "part = df[df[\"x\"] > 0].copy()\n",
    "part[\"z\"] = np.log(part[\"x\"])\n",
    "part"
   ]
  }
 ],
 "metadata": {
  "kernelspec": {
   "display_name": "Python 3 (ipykernel)",
   "language": "python",
   "name": "python3"
  },
  "language_info": {
   "codemirror_mode": {
    "name": "ipython",
    "version": 3
   },
   "file_extension": ".py",
   "mimetype": "text/x-python",
   "name": "python",
   "nbconvert_exporter": "python",
   "pygments_lexer": "ipython3",
   "version": "3.8.10"
  },
  "toc": {
   "base_numbering": 1,
   "nav_menu": {},
   "number_sections": true,
   "sideBar": true,
   "skip_h1_title": false,
   "title_cell": "Table of Contents",
   "title_sidebar": "Contents",
   "toc_cell": false,
   "toc_position": {},
   "toc_section_display": true,
   "toc_window_display": false
  }
 },
 "nbformat": 4,
 "nbformat_minor": 5
}
