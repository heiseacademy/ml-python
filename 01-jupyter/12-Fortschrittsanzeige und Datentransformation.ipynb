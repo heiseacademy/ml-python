{
 "cells": [
  {
   "cell_type": "code",
   "execution_count": null,
   "id": "e44c2d9d",
   "metadata": {},
   "outputs": [],
   "source": [
    "import time\n",
    "for i in range(1000):\n",
    "    time.sleep(0.01)"
   ]
  },
  {
   "cell_type": "code",
   "execution_count": null,
   "id": "f5d2a8b6-2c24-41de-834d-9c909c786911",
   "metadata": {},
   "outputs": [],
   "source": [
    "%pip install tqdm"
   ]
  },
  {
   "cell_type": "code",
   "execution_count": null,
   "id": "560cfa76",
   "metadata": {},
   "outputs": [],
   "source": [
    "from tqdm.auto import trange\n",
    "for i in trange(1000):\n",
    "    time.sleep(0.01)"
   ]
  },
  {
   "cell_type": "code",
   "execution_count": null,
   "id": "55cbb41c",
   "metadata": {},
   "outputs": [],
   "source": [
    "from tqdm.auto import tqdm\n",
    "for i in tqdm(range(10), desc=\"first\"):\n",
    "    for j in tqdm(range(100), desc=\"second\"):\n",
    "        time.sleep(0.01)"
   ]
  },
  {
   "cell_type": "code",
   "execution_count": null,
   "id": "78c81caa",
   "metadata": {},
   "outputs": [],
   "source": [
    "%pip install eurostat"
   ]
  },
  {
   "cell_type": "code",
   "execution_count": null,
   "id": "f8bc9366",
   "metadata": {},
   "outputs": [],
   "source": [
    "import eurostat\n",
    "df = eurostat.get_data_df(\"ei_bsco_m\")"
   ]
  },
  {
   "cell_type": "code",
   "execution_count": null,
   "id": "d0ab1200",
   "metadata": {},
   "outputs": [],
   "source": [
    "df"
   ]
  },
  {
   "cell_type": "code",
   "execution_count": null,
   "id": "e00ddecb",
   "metadata": {},
   "outputs": [],
   "source": [
    "df = df.rename(columns={\"geo\\\\TIME_PERIOD\": \"country\"})"
   ]
  },
  {
   "cell_type": "code",
   "execution_count": null,
   "id": "c06c4509",
   "metadata": {},
   "outputs": [],
   "source": [
    "from datetime import datetime\n",
    "df.columns = [datetime.strptime(f.split(\"-\")[0] + \"-\" + f.split(\"-\")[1] + \"-01\", \"%Y-%m-%d\")\n",
    "                if f.startswith(\"20\") or f.startswith(\"19\") else f for f in df.columns]"
   ]
  },
  {
   "cell_type": "code",
   "execution_count": null,
   "id": "67783f34",
   "metadata": {},
   "outputs": [],
   "source": [
    "df"
   ]
  },
  {
   "cell_type": "code",
   "execution_count": null,
   "id": "28674e3c",
   "metadata": {},
   "outputs": [],
   "source": [
    "bs = df[(df[\"indic\"] == \"BS-CSMCI\") & (df[\"s_adj\"] == \"SA\")]\n",
    "bs"
   ]
  },
  {
   "cell_type": "code",
   "execution_count": null,
   "id": "b3374086",
   "metadata": {},
   "outputs": [],
   "source": [
    "bs[bs[\"country\"] == \"DE\"]"
   ]
  },
  {
   "cell_type": "code",
   "execution_count": null,
   "id": "cd47b4cd",
   "metadata": {},
   "outputs": [],
   "source": [
    "bs_de = bs[bs[\"country\"] == \"DE\"][[c for c in bs.columns \n",
    "                     if (isinstance(c, datetime) and c.year>=2010)]]\n",
    "bs_de"
   ]
  },
  {
   "cell_type": "code",
   "execution_count": null,
   "id": "221753f1",
   "metadata": {},
   "outputs": [],
   "source": [
    "bs_de.plot()"
   ]
  },
  {
   "cell_type": "code",
   "execution_count": null,
   "id": "0b574e68",
   "metadata": {},
   "outputs": [],
   "source": [
    "bs_de.T.plot()"
   ]
  },
  {
   "cell_type": "code",
   "execution_count": null,
   "id": "3605ca6d",
   "metadata": {},
   "outputs": [],
   "source": [
    "indic_country = df[df[\"s_adj\"] == \"SA\"].pivot(index=\"country\", columns=\"indic\", \n",
    "                                              values=datetime(2022, 11, 1))\n",
    "indic_country"
   ]
  },
  {
   "cell_type": "code",
   "execution_count": null,
   "id": "20668427",
   "metadata": {},
   "outputs": [],
   "source": [
    "import seaborn as sns\n",
    "import matplotlib.pyplot as plt\n",
    "plt.figure(figsize=(20, 20))\n",
    "sns.heatmap(indic_country, annot=True)"
   ]
  }
 ],
 "metadata": {
  "kernelspec": {
   "display_name": "Python 3 (ipykernel)",
   "language": "python",
   "name": "python3"
  },
  "language_info": {
   "codemirror_mode": {
    "name": "ipython",
    "version": 3
   },
   "file_extension": ".py",
   "mimetype": "text/x-python",
   "name": "python",
   "nbconvert_exporter": "python",
   "pygments_lexer": "ipython3",
   "version": "3.8.10"
  },
  "toc": {
   "base_numbering": 1,
   "nav_menu": {},
   "number_sections": true,
   "sideBar": true,
   "skip_h1_title": false,
   "title_cell": "Table of Contents",
   "title_sidebar": "Contents",
   "toc_cell": false,
   "toc_position": {},
   "toc_section_display": true,
   "toc_window_display": false
  }
 },
 "nbformat": 4,
 "nbformat_minor": 5
}
