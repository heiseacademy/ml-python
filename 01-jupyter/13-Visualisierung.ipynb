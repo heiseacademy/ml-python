{
 "cells": [
  {
   "cell_type": "code",
   "execution_count": null,
   "id": "969423ec-aa3c-44e9-acca-f484700f9b73",
   "metadata": {},
   "outputs": [],
   "source": [
    "%pip install eurostat"
   ]
  },
  {
   "cell_type": "code",
   "execution_count": null,
   "id": "8c333d00",
   "metadata": {},
   "outputs": [],
   "source": [
    "import pandas as pd\n",
    "import eurostat\n",
    "df = eurostat.get_data_df(\"ei_bsco_m\")\n",
    "df = df.rename(columns={\"geo\\\\TIME_PERIOD\": \"country\"})"
   ]
  },
  {
   "cell_type": "code",
   "execution_count": null,
   "id": "c2a4d78f",
   "metadata": {},
   "outputs": [],
   "source": [
    "from datetime import datetime\n",
    "df.columns = [datetime.strptime(f.split(\"-\")[0] + \"-\" + f.split(\"-\")[1] + \"-01\", \"%Y-%m-%d\")\n",
    "                if f.startswith(\"20\") or f.startswith(\"19\") else f for f in df.columns]"
   ]
  },
  {
   "cell_type": "code",
   "execution_count": null,
   "id": "4ede621d",
   "metadata": {},
   "outputs": [],
   "source": [
    "rg = eurostat.get_dic(\"ei_bsco_m\", 'geo')\n",
    "realnames_g = { k: v for (k, v) in rg }\n",
    "realnames_g['DE'] = \"Germany\"\n",
    "realnames_g['EA19'] = \"EURO\"\n",
    "realnames_g['EU27_2020'] = \"EU\""
   ]
  },
  {
   "cell_type": "code",
   "execution_count": null,
   "id": "55a9d041",
   "metadata": {},
   "outputs": [],
   "source": [
    "de_cci = df[(df[\"country\"] == \"DE\") & \n",
    "            (df[\"indic\"] == \"BS-CSMCI\") & \n",
    "            (df[\"s_adj\"] == \"SA\")]\n",
    "de_cci = de_cci[[c for c in de_cci.columns \n",
    "                   if isinstance(c, datetime) and (c.year>=2019)]]\n",
    "de_cci.T.plot()"
   ]
  },
  {
   "cell_type": "code",
   "execution_count": null,
   "id": "85d0db88",
   "metadata": {},
   "outputs": [],
   "source": [
    "# Länder wählen\n",
    "cci_mix = df[(df[\"country\"].isin([\"DE\", \"EA19\", \"SE\"])) & \n",
    "             (df[\"indic\"] == \"BS-CSMCI\") & \n",
    "             (df[\"s_adj\"] == \"SA\")]\n",
    "\n",
    "# nur bestimmte Spalte behalten und transponieren (Zeit nach unten)\n",
    "cci_mix = cci_mix[[c for c in cci_mix.columns \n",
    "                     if (isinstance(c, datetime) and c.year>=2000) or c == \"country\"]].set_index(\"country\").transpose()"
   ]
  },
  {
   "cell_type": "code",
   "execution_count": null,
   "id": "ffd1478f",
   "metadata": {},
   "outputs": [],
   "source": [
    "cci_mix.plot()"
   ]
  },
  {
   "cell_type": "code",
   "execution_count": null,
   "id": "94da9af0",
   "metadata": {},
   "outputs": [],
   "source": [
    "cci = df[(df[\"indic\"] == \"BS-CSMCI\") & (df[\"s_adj\"] == \"SA\")]\n",
    "cci = cci[[\"country\", datetime(2022,11,1)]].set_index(\"country\")\n",
    "# echte Namen verwenden\n",
    "cci.index = [realnames_g[i] for i in cci.index]\n",
    "cci.plot.barh(figsize=(9, 9))"
   ]
  },
  {
   "cell_type": "code",
   "execution_count": null,
   "id": "c80f4d53",
   "metadata": {},
   "outputs": [],
   "source": [
    "cci.sort_values(datetime(2022,11,1)).plot.barh(figsize=(9, 9))"
   ]
  },
  {
   "cell_type": "code",
   "execution_count": null,
   "id": "c4d45799",
   "metadata": {
    "scrolled": true
   },
   "outputs": [],
   "source": [
    "cci.plot.hist(bins=20)"
   ]
  },
  {
   "cell_type": "code",
   "execution_count": null,
   "id": "cce294b1",
   "metadata": {},
   "outputs": [],
   "source": [
    "csmci = df[(df[\"indic\"] == \"BS-CSMCI\") & (df[\"s_adj\"] == \"SA\")]\n",
    "csmci"
   ]
  },
  {
   "cell_type": "code",
   "execution_count": null,
   "id": "c51a5504",
   "metadata": {},
   "outputs": [],
   "source": [
    "columns = [c for c in csmci.columns if isinstance(c, datetime) and (c.year>=2010)]\n",
    "\n",
    "csmci_unwrapped = pd.melt(csmci[[\"country\"] + columns].dropna(), \n",
    "                          id_vars=[\"country\"], var_name=\"month\", value_name=\"csmci\")\n",
    "csmci_unwrapped"
   ]
  },
  {
   "cell_type": "code",
   "execution_count": null,
   "id": "7eab91e2",
   "metadata": {},
   "outputs": [],
   "source": [
    "import matplotlib.pyplot as plt\n",
    "import seaborn as sns\n",
    "csmci_unwrapped[\"country\"] = [realnames_g[i] for i in csmci_unwrapped[\"country\"]]\n",
    "plt.figure(figsize=(8, 10))\n",
    "sns.boxplot(y=\"country\", x=\"csmci\", data=csmci_unwrapped, palette=\"viridis\")"
   ]
  },
  {
   "cell_type": "code",
   "execution_count": null,
   "id": "6cd4c98f",
   "metadata": {},
   "outputs": [],
   "source": [
    "labels = csmci_unwrapped.groupby(\"country\").agg({\"csmci\": \"median\"}).sort_values(\"csmci\").index.values\n",
    "plt.figure(figsize=(8, 10))\n",
    "sns.boxplot(y=\"country\", x=\"csmci\", data=csmci_unwrapped, order=labels, palette=\"viridis\")"
   ]
  },
  {
   "cell_type": "code",
   "execution_count": null,
   "id": "fe557c96",
   "metadata": {},
   "outputs": [],
   "source": [
    "de = df[(df[\"s_adj\"] == \"SA\") & (df[\"country\"] == \"DE\")].set_index(\"indic\")[columns].transpose()\n",
    "de"
   ]
  },
  {
   "cell_type": "code",
   "execution_count": null,
   "id": "c92377ab",
   "metadata": {},
   "outputs": [],
   "source": [
    "de.plot.scatter(x=\"BS-SFSH\", y=\"BS-CSMCI\")"
   ]
  },
  {
   "cell_type": "code",
   "execution_count": null,
   "id": "251719c3",
   "metadata": {},
   "outputs": [],
   "source": [
    "sns.jointplot(x=de[\"BS-SFSH\"], y=de[\"BS-CSMCI\"], scatter=False, kind=\"reg\")"
   ]
  },
  {
   "cell_type": "code",
   "execution_count": null,
   "id": "b1c39fa0",
   "metadata": {},
   "outputs": [],
   "source": [
    "from scipy.stats import linregress\n",
    "linregress(de[\"BS-SFSH\"], de[\"BS-CSMCI\"])"
   ]
  },
  {
   "cell_type": "code",
   "execution_count": null,
   "id": "ade1bb94",
   "metadata": {},
   "outputs": [],
   "source": [
    "%pip install geopandas"
   ]
  },
  {
   "cell_type": "code",
   "execution_count": null,
   "id": "ec6d9f27-2056-4ed9-9d88-f17d2371766d",
   "metadata": {},
   "outputs": [],
   "source": [
    "import sys, os\n",
    "ON_COLAB = 'google.colab' in sys.modules\n",
    "\n",
    "if ON_COLAB:\n",
    "    os.system(\"test -f europe.geo.json || wget https://github.com/heiseacademy/ml-python/raw/main/01-jupyter/europe.geo.json\")"
   ]
  },
  {
   "cell_type": "code",
   "execution_count": null,
   "id": "c05d4a88",
   "metadata": {},
   "outputs": [],
   "source": [
    "import geopandas\n",
    "bl_geo = geopandas.read_file(\"europe.geo.json\")\n",
    "bl_geo.plot(figsize=(10,10))"
   ]
  },
  {
   "cell_type": "code",
   "execution_count": null,
   "id": "ac07b02c",
   "metadata": {},
   "outputs": [],
   "source": [
    "hm = df[(df[\"indic\"] == \"BS-CSMCI\") & (df[\"s_adj\"] == \"SA\")]\n",
    "ghm = pd.merge(hm, bl_geo, left_on=\"country\", right_on='iso_a2', how=\"outer\")\n",
    "ghm"
   ]
  },
  {
   "cell_type": "code",
   "execution_count": null,
   "id": "4f225c03",
   "metadata": {},
   "outputs": [],
   "source": [
    "geopandas.GeoDataFrame(ghm).plot(column=datetime(2021, 1, 1), \n",
    "         legend=True, \n",
    "         legend_kwds={'orientation': \"horizontal\"}, \n",
    "         missing_kwds={\n",
    "           \"color\": \"lightgrey\",\n",
    "    },\n",
    "         figsize=(10,10))"
   ]
  }
 ],
 "metadata": {
  "kernelspec": {
   "display_name": "Python 3 (ipykernel)",
   "language": "python",
   "name": "python3"
  },
  "language_info": {
   "codemirror_mode": {
    "name": "ipython",
    "version": 3
   },
   "file_extension": ".py",
   "mimetype": "text/x-python",
   "name": "python",
   "nbconvert_exporter": "python",
   "pygments_lexer": "ipython3",
   "version": "3.8.10"
  },
  "toc": {
   "base_numbering": 1,
   "nav_menu": {},
   "number_sections": true,
   "sideBar": true,
   "skip_h1_title": false,
   "title_cell": "Table of Contents",
   "title_sidebar": "Contents",
   "toc_cell": false,
   "toc_position": {},
   "toc_section_display": true,
   "toc_window_display": false
  }
 },
 "nbformat": 4,
 "nbformat_minor": 5
}
